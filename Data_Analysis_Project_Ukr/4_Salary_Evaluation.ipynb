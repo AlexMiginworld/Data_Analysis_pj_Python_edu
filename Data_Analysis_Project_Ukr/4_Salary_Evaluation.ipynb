{
 "cells": [
  {
   "cell_type": "code",
   "execution_count": 27,
   "metadata": {},
   "outputs": [],
   "source": [
    "import ast\n",
    "import pandas as pd\n",
    "import seaborn as sns\n",
    "import numpy as np\n",
    "from datasets import load_dataset\n",
    "import matplotlib.pyplot as plt\n",
    "from matplotlib.ticker import FuncFormatter\n",
    "from adjustText import adjust_text\n",
    "\n",
    "\n",
    "\n",
    "# Loading Data\n",
    "dataset = load_dataset('lukebarousse/data_jobs')\n",
    "df = dataset['train'].to_pandas()\n",
    "\n",
    "\n",
    "\n",
    "# Data Cleanup\n",
    "df['job_posted_date'] = pd.to_datetime(df['job_posted_date']) \n",
    "\n",
    "# Transform job_skills from str to list by using apply method\n",
    "df['job_skills'] = df['job_skills'].apply(lambda x: ast.literal_eval(x) if pd.notna(x) else x)"
   ]
  },
  {
   "cell_type": "code",
   "execution_count": 28,
   "metadata": {},
   "outputs": [],
   "source": [
    "df_Ukr = df[(df['job_country'] == 'Ukraine')].dropna(subset=['salary_year_avg'])\n",
    "\n",
    "\n",
    "# Replaced duplicates in job_via column \n",
    "df_Ukr['job_via'] = df_Ukr['job_via'].replace('via RABOTA.ua', 'via Robota.ua')\n",
    "df_Ukr['job_via'] = df_Ukr['job_via'].replace('via Rabota.ua', 'via Robota.ua')\n",
    "df_Ukr['job_via'] = df_Ukr['job_via'].replace('via Ua.linkedin.com', 'via LinkedIn')\n",
    "\n"
   ]
  },
  {
   "cell_type": "code",
   "execution_count": 31,
   "metadata": {},
   "outputs": [
    {
     "data": {
      "text/plain": [
       "[7, 7, 6, 6, 2, 1, 1, 1, 1]"
      ]
     },
     "execution_count": 31,
     "metadata": {},
     "output_type": "execute_result"
    }
   ],
   "source": [
    "job_titles = df_Ukr['job_title_short'].value_counts().tolist()\n",
    "\n",
    "# filter the df for the top 10 job titles\n",
    "\n",
    "df_Ukr_top30 = df_Ukr[df_Ukr['job_title_short'].isin(job_titles)]\n",
    "\n",
    "job_titles\n"
   ]
  },
  {
   "cell_type": "code",
   "execution_count": 30,
   "metadata": {},
   "outputs": [
    {
     "data": {
      "text/plain": [
       "job_via\n",
       "via Ai-Jobs.net         27\n",
       "via AngelList            2\n",
       "via Wellfound            2\n",
       "via We Work Remotely     1\n",
       "Name: count, dtype: int64"
      ]
     },
     "execution_count": 30,
     "metadata": {},
     "output_type": "execute_result"
    }
   ],
   "source": [
    "df_Ukr_top30['job_via'].value_counts()\n"
   ]
  },
  {
   "cell_type": "markdown",
   "metadata": {},
   "source": [
    "#### To summarize, I have to say that this database does not provide a realistic picture of wages in the context of Ukraine, so I have to stop the exploration, unfortunately. "
   ]
  },
  {
   "cell_type": "markdown",
   "metadata": {},
   "source": []
  }
 ],
 "metadata": {
  "kernelspec": {
   "display_name": "luke_barusse",
   "language": "python",
   "name": "python3"
  },
  "language_info": {
   "codemirror_mode": {
    "name": "ipython",
    "version": 3
   },
   "file_extension": ".py",
   "mimetype": "text/x-python",
   "name": "python",
   "nbconvert_exporter": "python",
   "pygments_lexer": "ipython3",
   "version": "3.12.7"
  }
 },
 "nbformat": 4,
 "nbformat_minor": 2
}
